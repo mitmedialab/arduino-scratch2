{
 "cells": [
  {
   "cell_type": "code",
   "execution_count": 2,
   "metadata": {
    "collapsed": true
   },
   "outputs": [],
   "source": [
    "import myutils as my\n",
    "import pandas as pd\n",
    "import seaborn as sns\n",
    "import numpy as np\n",
    "from sklearn.decomposition import PCA\n",
    "%matplotlib inline\n",
    "%load_ext rpy2.ipython"
   ]
  },
  {
   "cell_type": "code",
   "execution_count": 3,
   "metadata": {
    "collapsed": true
   },
   "outputs": [],
   "source": [
    "df = pd.DataFrame(pd.read_csv(\"./data/minimal.50d.3f.csv\")).set_index(\"0\")"
   ]
  },
  {
   "cell_type": "code",
   "execution_count": 9,
   "metadata": {
    "collapsed": true
   },
   "outputs": [],
   "source": [
    "pca = PCA(n_components = 2)"
   ]
  },
  {
   "cell_type": "code",
   "execution_count": 35,
   "metadata": {
    "collapsed": true
   },
   "outputs": [],
   "source": [
    "nums = [\"2\", \"3\", \"4\", \"5\", \"6\", \"7\",  \"two\", \"three\", \"four\", \"five\", \"six\", \"seven\"]\n"
   ]
  },
  {
   "cell_type": "code",
   "execution_count": 36,
   "metadata": {
    "collapsed": false
   },
   "outputs": [
    {
     "data": {
      "text/plain": [
       "PCA(copy=True, n_components=2, whiten=False)"
      ]
     },
     "execution_count": 36,
     "metadata": {},
     "output_type": "execute_result"
    }
   ],
   "source": [
    "pca.fit(df.loc[nums])"
   ]
  },
  {
   "cell_type": "code",
   "execution_count": 37,
   "metadata": {
    "collapsed": false,
    "scrolled": true
   },
   "outputs": [
    {
     "data": {
      "text/html": [
       "<div>\n",
       "<table border=\"1\" class=\"dataframe\">\n",
       "  <thead>\n",
       "    <tr style=\"text-align: right;\">\n",
       "      <th></th>\n",
       "      <th>x</th>\n",
       "      <th>y</th>\n",
       "      <th>name</th>\n",
       "    </tr>\n",
       "  </thead>\n",
       "  <tbody>\n",
       "    <tr>\n",
       "      <th>0</th>\n",
       "      <td>-2.214440</td>\n",
       "      <td>-0.968683</td>\n",
       "      <td>2</td>\n",
       "    </tr>\n",
       "    <tr>\n",
       "      <th>1</th>\n",
       "      <td>-2.133136</td>\n",
       "      <td>-0.459258</td>\n",
       "      <td>3</td>\n",
       "    </tr>\n",
       "    <tr>\n",
       "      <th>2</th>\n",
       "      <td>-2.037373</td>\n",
       "      <td>0.008752</td>\n",
       "      <td>4</td>\n",
       "    </tr>\n",
       "    <tr>\n",
       "      <th>3</th>\n",
       "      <td>-1.801583</td>\n",
       "      <td>0.280130</td>\n",
       "      <td>5</td>\n",
       "    </tr>\n",
       "    <tr>\n",
       "      <th>4</th>\n",
       "      <td>-1.914627</td>\n",
       "      <td>0.447978</td>\n",
       "      <td>6</td>\n",
       "    </tr>\n",
       "    <tr>\n",
       "      <th>5</th>\n",
       "      <td>-1.880265</td>\n",
       "      <td>0.733536</td>\n",
       "      <td>7</td>\n",
       "    </tr>\n",
       "    <tr>\n",
       "      <th>6</th>\n",
       "      <td>2.269423</td>\n",
       "      <td>-0.600496</td>\n",
       "      <td>two</td>\n",
       "    </tr>\n",
       "    <tr>\n",
       "      <th>7</th>\n",
       "      <td>2.051525</td>\n",
       "      <td>-0.184433</td>\n",
       "      <td>three</td>\n",
       "    </tr>\n",
       "    <tr>\n",
       "      <th>8</th>\n",
       "      <td>2.029471</td>\n",
       "      <td>-0.155913</td>\n",
       "      <td>four</td>\n",
       "    </tr>\n",
       "    <tr>\n",
       "      <th>9</th>\n",
       "      <td>1.889503</td>\n",
       "      <td>0.248494</td>\n",
       "      <td>five</td>\n",
       "    </tr>\n",
       "    <tr>\n",
       "      <th>10</th>\n",
       "      <td>1.833601</td>\n",
       "      <td>0.231159</td>\n",
       "      <td>six</td>\n",
       "    </tr>\n",
       "    <tr>\n",
       "      <th>11</th>\n",
       "      <td>1.907901</td>\n",
       "      <td>0.418732</td>\n",
       "      <td>seven</td>\n",
       "    </tr>\n",
       "  </tbody>\n",
       "</table>\n",
       "</div>"
      ],
      "text/plain": [
       "           x         y   name\n",
       "0  -2.214440 -0.968683      2\n",
       "1  -2.133136 -0.459258      3\n",
       "2  -2.037373  0.008752      4\n",
       "3  -1.801583  0.280130      5\n",
       "4  -1.914627  0.447978      6\n",
       "5  -1.880265  0.733536      7\n",
       "6   2.269423 -0.600496    two\n",
       "7   2.051525 -0.184433  three\n",
       "8   2.029471 -0.155913   four\n",
       "9   1.889503  0.248494   five\n",
       "10  1.833601  0.231159    six\n",
       "11  1.907901  0.418732  seven"
      ]
     },
     "execution_count": 37,
     "metadata": {},
     "output_type": "execute_result"
    }
   ],
   "source": [
    "nums_plot = pd.DataFrame(pca.transform(df.loc[nums])).rename(columns={0:\"x\", 1:\"y\"})\n",
    "nums_plot[\"name\"] = nums\n",
    "nums_plot\n"
   ]
  },
  {
   "cell_type": "code",
   "execution_count": 38,
   "metadata": {
    "collapsed": false,
    "scrolled": true
   },
   "outputs": [
    {
     "data": {
      "image/png": "[encoded data removed]"
     },
     "metadata": {},
     "output_type": "display_data"
    }
   ],
   "source": [
    "%%R -i nums_plot\n",
    "library(ggplot2)\n",
    "\n",
    "ggplot(nums_plot, aes(x, y, label=name)) +\n",
    "  geom_text()"
   ]
  },
  {
   "cell_type": "code",
   "execution_count": 33,
   "metadata": {
    "collapsed": false,
    "scrolled": true
   },
   "outputs": [],
   "source": [
    "adjs = [\"clear\", \"clearer\", \n",
    "        \"dark\", \"darker\", \n",
    "        \"strong\", \"stronger\",\n",
    "        \"long\", \"longer\",\n",
    "        \"big\", \"bigger\",\n",
    "        \"fat\", \"fatter\"]\n",
    "pca =PCA(n_components = 2)\n",
    "pca.fit(df.loc[adjs])\n",
    "adjs_plot = pd.DataFrame(pca.transform(df.loc[adjs])).rename(columns={0:\"x\", 1:\"y\"})\n",
    "adjs_plot[\"name\"] = adjs"
   ]
  },
  {
   "cell_type": "code",
   "execution_count": 34,
   "metadata": {
    "collapsed": false,
    "scrolled": true
   },
   "outputs": [
    {
     "data": {
      "image/png": "[encoded data removed]"
     },
     "metadata": {},
     "output_type": "display_data"
    }
   ],
   "source": [
    "%%R -i adjs_plot\n",
    "\n",
    "ggplot(adjs_plot, aes(x, y, label=name)) +\n",
    "  geom_text()"
   ]
  },
  {
   "cell_type": "code",
   "execution_count": 16,
   "metadata": {
    "collapsed": true
   },
   "outputs": [],
   "source": [
    "def get_PCA_plot(words):\n",
    "    pca =PCA(n_components = 2)\n",
    "    pca.fit(df.loc[words])\n",
    "    plot = pd.DataFrame(pca.transform(df.loc[words])).rename(columns={0:\"x\", 1:\"y\"})\n",
    "    plot[\"name\"] = words\n",
    "    return plot"
   ]
  },
  {
   "cell_type": "code",
   "execution_count": 49,
   "metadata": {
    "collapsed": true
   },
   "outputs": [],
   "source": [
    "man_woman = get_PCA_plot([\"man\", \"woman\",\n",
    "                          \"uncle\", \"aunt\",\n",
    "                          \"niece\", \"nephew\",\n",
    "                          \"king\", \"queen\",\n",
    "                         \"brother\", \"sister\",\n",
    "                         \"heir\", \"heiress\", \n",
    "                         \"actor\", \"actress\",])"
   ]
  },
  {
   "cell_type": "code",
   "execution_count": 50,
   "metadata": {
    "collapsed": false
   },
   "outputs": [
    {
     "data": {
      "image/png": "[encoded data removed]"
     },
     "metadata": {},
     "output_type": "display_data"
    }
   ],
   "source": [
    "%%R -i man_woman\n",
    "\n",
    "ggplot(man_woman, aes(x, y, label=name)) +\n",
    "  geom_text()"
   ]
  },
  {
   "cell_type": "code",
   "execution_count": 46,
   "metadata": {
    "collapsed": true
   },
   "outputs": [],
   "source": [
    "whatever = [\"happy\", \"sad\", \n",
    "            \"rich\", \"poor\", \n",
    "            \"important\", \"unimportant\",\n",
    "            \"good\", \"bad\", \"evil\", \n",
    "            \"healthy\", \"ill\", \n",
    "            \"high\", \"low\",\n",
    "            \"up\", \"down\", \n",
    "            \"conscious\", \"unconscious\",\n",
    "           \"unknown\", \"known\",\n",
    "           \"finished\", \"incomplete\", \"complete\",\n",
    "            \"positive\", \"negative\", \n",
    "           \"active\", \"passive\",\n",
    "           \"hot\", \"cold\", \n",
    "           \"loud\", \"quiet\",\n",
    "            \"on\", \"off\"\n",
    "           ]"
   ]
  },
  {
   "cell_type": "code",
   "execution_count": 47,
   "metadata": {
    "collapsed": true
   },
   "outputs": [],
   "source": [
    "up_down = get_PCA_plot(whatever)"
   ]
  },
  {
   "cell_type": "code",
   "execution_count": 48,
   "metadata": {
    "collapsed": false
   },
   "outputs": [
    {
     "data": {
      "image/png": "[encoded data removed]"
     },
     "metadata": {},
     "output_type": "display_data"
    }
   ],
   "source": [
    "%%R -i up_down\n",
    "\n",
    "ggplot(up_down, aes(x, y, label=name)) +\n",
    "  geom_text()"
   ]
  },
  {
   "cell_type": "code",
   "execution_count": null,
   "metadata": {
    "collapsed": true
   },
   "outputs": [],
   "source": []
  }
 ],
 "metadata": {
  "anaconda-cloud": {},
  "kernelspec": {
   "display_name": "Python [Root]",
   "language": "python",
   "name": "Python [Root]"
  },
  "language_info": {
   "codemirror_mode": {
    "name": "ipython",
    "version": 3
   },
   "file_extension": ".py",
   "mimetype": "text/x-python",
   "name": "python",
   "nbconvert_exporter": "python",
   "pygments_lexer": "ipython3",
   "version": "3.5.2"
  }
 },
 "nbformat": 4,
 "nbformat_minor": 0
}
