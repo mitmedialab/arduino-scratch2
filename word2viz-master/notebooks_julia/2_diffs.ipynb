{
 "cells": [
  {
   "cell_type": "code",
   "execution_count": 2,
   "metadata": {
    "collapsed": true
   },
   "outputs": [],
   "source": [
    "import pandas as pd\n",
    "import seaborn as sns\n",
    "import numpy as np\n",
    "%matplotlib inline\n",
    "%load_ext rpy2.ipython"
   ]
  },
  {
   "cell_type": "code",
   "execution_count": 3,
   "metadata": {
    "collapsed": true
   },
   "outputs": [],
   "source": [
    "df = pd.read_table(\"./data/glove.6B.100d.txt\", delimiter=\" \", header=None, index_col=0, quoting=3)"
   ]
  },
  {
   "cell_type": "code",
   "execution_count": 4,
   "metadata": {
    "collapsed": true
   },
   "outputs": [],
   "source": [
    "words = set(df.index)"
   ]
  },
  {
   "cell_type": "code",
   "execution_count": 6,
   "metadata": {
    "collapsed": true
   },
   "outputs": [],
   "source": [
    "lens = np.sqrt((df**2).sum(axis=1))"
   ]
  },
  {
   "cell_type": "code",
   "execution_count": 7,
   "metadata": {
    "collapsed": true
   },
   "outputs": [],
   "source": [
    "dfn = df.div(lens, axis='index')"
   ]
  },
  {
   "cell_type": "code",
   "execution_count": 90,
   "metadata": {
    "collapsed": false
   },
   "outputs": [],
   "source": [
    "checkword=df.loc[\"janitor\"]"
   ]
  },
  {
   "cell_type": "code",
   "execution_count": 99,
   "metadata": {
    "collapsed": true
   },
   "outputs": [],
   "source": [
    "from numpy.linalg import norm"
   ]
  },
  {
   "cell_type": "code",
   "execution_count": 100,
   "metadata": {
    "collapsed": false
   },
   "outputs": [
    {
     "data": {
      "text/plain": [
       "3.898482462703404"
      ]
     },
     "execution_count": 100,
     "metadata": {},
     "output_type": "execute_result"
    }
   ],
   "source": [
    "norm(df.loc[\"janitor\"])"
   ]
  },
  {
   "cell_type": "code",
   "execution_count": 91,
   "metadata": {
    "collapsed": false
   },
   "outputs": [],
   "source": [
    "checkword_norm = checkword.div(np.sqrt((checkword**2).sum()), axis='index')"
   ]
  },
  {
   "cell_type": "code",
   "execution_count": 92,
   "metadata": {
    "collapsed": false
   },
   "outputs": [
    {
     "data": {
      "text/plain": [
       "0\n",
       "janitor          1.000000\n",
       "bookkeeper       0.726261\n",
       "bricklayer       0.691936\n",
       "electrician      0.689073\n",
       "bartender        0.682457\n",
       "hairdresser      0.669998\n",
       "schoolteacher    0.663353\n",
       "welder           0.663044\n",
       "housekeeper      0.660609\n",
       "busboy           0.651265\n",
       "laborer          0.640879\n",
       "receptionist     0.636249\n",
       "plumber          0.634917\n",
       "waitress         0.623412\n",
       "trainee          0.619688\n",
       "dtype: float64"
      ]
     },
     "execution_count": 92,
     "metadata": {},
     "output_type": "execute_result"
    }
   ],
   "source": [
    "dfn.dot(checkword_norm).sort_values(ascending=False).head(15)"
   ]
  },
  {
   "cell_type": "code",
   "execution_count": 93,
   "metadata": {
    "collapsed": true
   },
   "outputs": [],
   "source": [
    "wordlist = [\"chess\", \"dance\", \"metaphor\", \"pokemon\", \"regret\"]"
   ]
  },
  {
   "cell_type": "code",
   "execution_count": 94,
   "metadata": {
    "collapsed": false
   },
   "outputs": [
    {
     "data": {
      "text/plain": [
       "0\n",
       "janitor        15.198166\n",
       "electrician    12.810241\n",
       "teacher        12.465693\n",
       "laborer        12.396075\n",
       "bookkeeper     11.612647\n",
       "trainee        11.477165\n",
       "waitress       11.466851\n",
       "waiter         11.347566\n",
       "labourer       11.266740\n",
       "plumber        11.258656\n",
       "dormitory      11.212187\n",
       "nurse          11.162534\n",
       "intern         11.134941\n",
       "housekeeper    10.921577\n",
       "bricklayer     10.915304\n",
       "dtype: float64"
      ]
     },
     "execution_count": 94,
     "metadata": {},
     "output_type": "execute_result"
    }
   ],
   "source": [
    "\n",
    "df.dot(checkword).sort_values(ascending=False).head(15)"
   ]
  },
  {
   "cell_type": "code",
   "execution_count": 95,
   "metadata": {
    "collapsed": false
   },
   "outputs": [
    {
     "data": {
      "text/plain": [
       "0\n",
       "janitor          0.000000\n",
       "bookkeeper       2.965671\n",
       "bartender        3.084844\n",
       "bricklayer       3.121108\n",
       "hairdresser      3.199749\n",
       "cabdriver        3.262926\n",
       "schoolteacher    3.285644\n",
       "landscaper       3.334100\n",
       "welder           3.346038\n",
       "kindergartner    3.351178\n",
       "housekeeper      3.367371\n",
       "barmaid          3.371829\n",
       "locksmith        3.383692\n",
       "busboy           3.425669\n",
       "beautician       3.487344\n",
       "dtype: float64"
      ]
     },
     "execution_count": 95,
     "metadata": {},
     "output_type": "execute_result"
    }
   ],
   "source": [
    "np.sqrt(((df-checkword)**2).sum(axis=1)).sort_values().head(15)"
   ]
  },
  {
   "cell_type": "code",
   "execution_count": null,
   "metadata": {
    "collapsed": true
   },
   "outputs": [],
   "source": []
  },
  {
   "cell_type": "code",
   "execution_count": null,
   "metadata": {
    "collapsed": true
   },
   "outputs": [],
   "source": []
  }
 ],
 "metadata": {
  "anaconda-cloud": {},
  "kernelspec": {
   "display_name": "Python [Root]",
   "language": "python",
   "name": "Python [Root]"
  },
  "language_info": {
   "codemirror_mode": {
    "name": "ipython",
    "version": 3
   },
   "file_extension": ".py",
   "mimetype": "text/x-python",
   "name": "python",
   "nbconvert_exporter": "python",
   "pygments_lexer": "ipython3",
   "version": "3.5.2"
  }
 },
 "nbformat": 4,
 "nbformat_minor": 0
}
