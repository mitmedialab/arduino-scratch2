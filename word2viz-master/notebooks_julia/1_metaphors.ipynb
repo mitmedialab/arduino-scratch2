{
 "cells": [
  {
   "cell_type": "code",
   "execution_count": 2,
   "metadata": {
    "collapsed": true
   },
   "outputs": [],
   "source": [
    "import pandas as pd\n",
    "import seaborn as sns\n",
    "import numpy as np\n",
    "%matplotlib inline"
   ]
  },
  {
   "cell_type": "code",
   "execution_count": 84,
   "metadata": {
    "collapsed": false
   },
   "outputs": [],
   "source": [
    "df = pd.read_table(\"./data/glove.6B.50d.txt\", delimiter=\" \", header=None, index_col=0, quoting=3)"
   ]
  },
  {
   "cell_type": "code",
   "execution_count": 37,
   "metadata": {
    "collapsed": false
   },
   "outputs": [],
   "source": [
    "df = pd.DataFrame(pd.read_csv(\"./data/minimal.50d.3f.csv\")).set_index(\"0\")"
   ]
  },
  {
   "cell_type": "code",
   "execution_count": 63,
   "metadata": {
    "collapsed": true
   },
   "outputs": [],
   "source": [
    "df = pd.DataFrame(pd.read_csv(\"./data/minimal.50d.4f.csv\")).set_index(\"0\")"
   ]
  },
  {
   "cell_type": "code",
   "execution_count": 85,
   "metadata": {
    "collapsed": false
   },
   "outputs": [],
   "source": [
    "words = set(df.index)"
   ]
  },
  {
   "cell_type": "code",
   "execution_count": 86,
   "metadata": {
    "collapsed": false
   },
   "outputs": [
    {
     "data": {
      "text/plain": [
       "True"
      ]
     },
     "execution_count": 86,
     "metadata": {},
     "output_type": "execute_result"
    }
   ],
   "source": [
    "\"happy\" in words"
   ]
  },
  {
   "cell_type": "code",
   "execution_count": 87,
   "metadata": {
    "collapsed": true
   },
   "outputs": [],
   "source": [
    "whatever = [\"happy\", \"sad\", \n",
    "            \"rich\", \"poor\", \n",
    "            \"important\", \"unimportant\",\n",
    "            \"good\", \"bad\", \"evil\", \n",
    "            \"healthy\", \"ill\", \n",
    "            \"high\", \"low\", \"up\", \"down\", \n",
    "            \"conscious\", \"unconscious\",\n",
    "           #            \"rational\", \"emotional\",\n",
    "            \"more\", \"less\",\n",
    "#          \"idealistic\", \"down-to-earth\", \"practical\",\n",
    "           \"unknown\", \"known\",\n",
    "           \"finished\", \"incomplete\", \"complete\",\n",
    "            \"positive\", \"negative\", \n",
    "           \"big\", \"small\", \"little\", \"enormous\",\n",
    "           \"beginning\", \"end\",\n",
    "           \"future\", \"past\",\n",
    "           \"spirit\", \"body\",\n",
    "           #          \"sky\", \"ground\",\n",
    "#           \"heavenly\", \"hell\", \"salvation\",\n",
    "           \"virtuous\", \"sinful\", \n",
    "#           \"central\", \"peripheral\",\n",
    "#           \"urban\", \"rural\",\n",
    "           \"active\", \"passive\",\n",
    "           \"hot\", \"cold\", \n",
    "            \n",
    "           \"loud\", \"quiet\",\n",
    "#          \"expensive\", \"cheap\", \"costly\",\n",
    "            \"normal\", \"eccentric\", \"strange\",\n",
    "            \"front\", \"back\",\n",
    "            \"on\", \"off\"\n",
    "           ]"
   ]
  },
  {
   "cell_type": "code",
   "execution_count": 88,
   "metadata": {
    "collapsed": false
   },
   "outputs": [
    {
     "data": {
      "text/plain": [
       "0\n",
       "happy          1.792510\n",
       "sad            0.859652\n",
       "rich           2.887585\n",
       "poor           1.318398\n",
       "important      3.025564\n",
       "unimportant    0.512193\n",
       "good           2.627740\n",
       "bad            0.421010\n",
       "evil          -0.104641\n",
       "healthy        2.670279\n",
       "ill            0.473419\n",
       "high           0.571788\n",
       "low           -0.054458\n",
       "up             0.198731\n",
       "down          -2.510700\n",
       "conscious      1.154757\n",
       "unconscious   -1.804858\n",
       "more           2.675395\n",
       "less           1.854727\n",
       "unknown        0.756882\n",
       "known          1.728611\n",
       "finished       0.342291\n",
       "incomplete    -0.124750\n",
       "complete       1.921671\n",
       "positive       1.353585\n",
       "negative      -0.037737\n",
       "big            1.956931\n",
       "small          1.809458\n",
       "little         1.090575\n",
       "enormous       1.925197\n",
       "beginning      0.476204\n",
       "end           -0.460891\n",
       "future         2.099606\n",
       "past           0.322365\n",
       "spirit         1.254198\n",
       "body           0.913171\n",
       "virtuous       0.565870\n",
       "sinful         0.127401\n",
       "active         1.835548\n",
       "passive        0.279218\n",
       "hot            0.745637\n",
       "cold          -0.509107\n",
       "loud          -1.396176\n",
       "quiet         -0.501186\n",
       "normal         1.043336\n",
       "eccentric      0.993033\n",
       "strange        0.471102\n",
       "front         -0.450364\n",
       "back          -0.538891\n",
       "on             0.115938\n",
       "off           -1.328914\n",
       "dtype: float64"
      ]
     },
     "execution_count": 88,
     "metadata": {},
     "output_type": "execute_result"
    }
   ],
   "source": [
    "df.loc[whatever].dot(df.loc[\"up\"] - df.loc[\"down\"])#.sort_values()"
   ]
  },
  {
   "cell_type": "code",
   "execution_count": 89,
   "metadata": {
    "collapsed": false
   },
   "outputs": [
    {
     "name": "stderr",
     "output_type": "stream",
     "text": [
      "/home/julia/anaconda3/lib/python3.5/site-packages/pandas/core/generic.py:4256: RuntimeWarning: unorderable types: str() > float(), sort order is undefined for incomparable objects\n",
      "  return_indexers=True)\n"
     ]
    }
   ],
   "source": [
    "lens = (df**2).sum(axis=1).sort_values()\n",
    "dfn = df.div(np.sqrt(lens), axis='index')"
   ]
  },
  {
   "cell_type": "code",
   "execution_count": 90,
   "metadata": {
    "collapsed": false
   },
   "outputs": [
    {
     "data": {
      "text/plain": [
       "0\n",
       "happy          0.095834\n",
       "sad            0.041788\n",
       "rich           0.133326\n",
       "poor           0.076774\n",
       "important      0.134327\n",
       "unimportant    0.021824\n",
       "good           0.121742\n",
       "bad            0.041315\n",
       "evil           0.008659\n",
       "healthy        0.118995\n",
       "ill            0.037197\n",
       "high           0.048983\n",
       "low            0.026908\n",
       "up             0.047655\n",
       "down          -0.047655\n",
       "conscious      0.067241\n",
       "unconscious   -0.058271\n",
       "more           0.124270\n",
       "less           0.095337\n",
       "unknown        0.047791\n",
       "known          0.087818\n",
       "finished       0.037913\n",
       "incomplete     0.003356\n",
       "complete       0.101683\n",
       "positive       0.068029\n",
       "negative       0.017816\n",
       "big            0.099964\n",
       "small          0.094177\n",
       "little         0.071844\n",
       "enormous       0.094020\n",
       "beginning      0.046715\n",
       "end            0.015697\n",
       "future         0.109063\n",
       "past           0.045926\n",
       "spirit         0.065085\n",
       "body           0.055716\n",
       "virtuous       0.027246\n",
       "sinful         0.001841\n",
       "active         0.094324\n",
       "passive        0.021221\n",
       "hot            0.051407\n",
       "cold           0.004058\n",
       "loud          -0.030720\n",
       "quiet          0.002176\n",
       "normal         0.064296\n",
       "eccentric      0.051867\n",
       "strange        0.034523\n",
       "front          0.012490\n",
       "back           0.017494\n",
       "on             0.039327\n",
       "off           -0.008299\n",
       "dtype: float64"
      ]
     },
     "execution_count": 90,
     "metadata": {},
     "output_type": "execute_result"
    }
   ],
   "source": [
    "dfn.loc[whatever].dot(dfn.loc[\"up\"] - dfn.loc[\"down\"])#.sort_values()"
   ]
  },
  {
   "cell_type": "code",
   "execution_count": 91,
   "metadata": {
    "collapsed": false
   },
   "outputs": [],
   "source": [
    "height = df.loc[\"up\"] - df.loc[\"down\"]\n",
    "second = df.loc[\"good\"] - df.loc[\"bad\"]\n",
    "proj = pd.DataFrame([height, second], index=[\"height\", \"second\"]).transpose()"
   ]
  },
  {
   "cell_type": "code",
   "execution_count": 92,
   "metadata": {
    "collapsed": false
   },
   "outputs": [
    {
     "data": {
      "text/html": [
       "<div>\n",
       "<table border=\"1\" class=\"dataframe\">\n",
       "  <thead>\n",
       "    <tr style=\"text-align: right;\">\n",
       "      <th></th>\n",
       "      <th>height</th>\n",
       "      <th>second</th>\n",
       "      <th>name</th>\n",
       "    </tr>\n",
       "    <tr>\n",
       "      <th>0</th>\n",
       "      <th></th>\n",
       "      <th></th>\n",
       "      <th></th>\n",
       "    </tr>\n",
       "  </thead>\n",
       "  <tbody>\n",
       "    <tr>\n",
       "      <th>happy</th>\n",
       "      <td>1.792510</td>\n",
       "      <td>4.115847</td>\n",
       "      <td>happy</td>\n",
       "    </tr>\n",
       "    <tr>\n",
       "      <th>sad</th>\n",
       "      <td>0.859652</td>\n",
       "      <td>-1.944277</td>\n",
       "      <td>sad</td>\n",
       "    </tr>\n",
       "    <tr>\n",
       "      <th>rich</th>\n",
       "      <td>2.887585</td>\n",
       "      <td>5.006661</td>\n",
       "      <td>rich</td>\n",
       "    </tr>\n",
       "    <tr>\n",
       "      <th>poor</th>\n",
       "      <td>1.318398</td>\n",
       "      <td>0.510735</td>\n",
       "      <td>poor</td>\n",
       "    </tr>\n",
       "    <tr>\n",
       "      <th>important</th>\n",
       "      <td>3.025564</td>\n",
       "      <td>5.795462</td>\n",
       "      <td>important</td>\n",
       "    </tr>\n",
       "    <tr>\n",
       "      <th>unimportant</th>\n",
       "      <td>0.512193</td>\n",
       "      <td>-1.783902</td>\n",
       "      <td>unimportant</td>\n",
       "    </tr>\n",
       "    <tr>\n",
       "      <th>good</th>\n",
       "      <td>2.627740</td>\n",
       "      <td>6.257723</td>\n",
       "      <td>good</td>\n",
       "    </tr>\n",
       "    <tr>\n",
       "      <th>bad</th>\n",
       "      <td>0.421010</td>\n",
       "      <td>-4.757310</td>\n",
       "      <td>bad</td>\n",
       "    </tr>\n",
       "    <tr>\n",
       "      <th>evil</th>\n",
       "      <td>-0.104641</td>\n",
       "      <td>-0.360397</td>\n",
       "      <td>evil</td>\n",
       "    </tr>\n",
       "    <tr>\n",
       "      <th>healthy</th>\n",
       "      <td>2.670279</td>\n",
       "      <td>4.947079</td>\n",
       "      <td>healthy</td>\n",
       "    </tr>\n",
       "    <tr>\n",
       "      <th>ill</th>\n",
       "      <td>0.473419</td>\n",
       "      <td>-1.838928</td>\n",
       "      <td>ill</td>\n",
       "    </tr>\n",
       "    <tr>\n",
       "      <th>high</th>\n",
       "      <td>0.571788</td>\n",
       "      <td>3.150527</td>\n",
       "      <td>high</td>\n",
       "    </tr>\n",
       "    <tr>\n",
       "      <th>low</th>\n",
       "      <td>-0.054458</td>\n",
       "      <td>1.378621</td>\n",
       "      <td>low</td>\n",
       "    </tr>\n",
       "    <tr>\n",
       "      <th>up</th>\n",
       "      <td>0.198731</td>\n",
       "      <td>2.652228</td>\n",
       "      <td>up</td>\n",
       "    </tr>\n",
       "    <tr>\n",
       "      <th>down</th>\n",
       "      <td>-2.510700</td>\n",
       "      <td>0.445498</td>\n",
       "      <td>down</td>\n",
       "    </tr>\n",
       "    <tr>\n",
       "      <th>conscious</th>\n",
       "      <td>1.154757</td>\n",
       "      <td>1.071025</td>\n",
       "      <td>conscious</td>\n",
       "    </tr>\n",
       "    <tr>\n",
       "      <th>unconscious</th>\n",
       "      <td>-1.804858</td>\n",
       "      <td>-2.086576</td>\n",
       "      <td>unconscious</td>\n",
       "    </tr>\n",
       "    <tr>\n",
       "      <th>more</th>\n",
       "      <td>2.675395</td>\n",
       "      <td>3.308175</td>\n",
       "      <td>more</td>\n",
       "    </tr>\n",
       "    <tr>\n",
       "      <th>less</th>\n",
       "      <td>1.854727</td>\n",
       "      <td>2.820121</td>\n",
       "      <td>less</td>\n",
       "    </tr>\n",
       "    <tr>\n",
       "      <th>unknown</th>\n",
       "      <td>0.756882</td>\n",
       "      <td>0.421641</td>\n",
       "      <td>unknown</td>\n",
       "    </tr>\n",
       "    <tr>\n",
       "      <th>known</th>\n",
       "      <td>1.728611</td>\n",
       "      <td>2.412430</td>\n",
       "      <td>known</td>\n",
       "    </tr>\n",
       "    <tr>\n",
       "      <th>finished</th>\n",
       "      <td>0.342291</td>\n",
       "      <td>4.374879</td>\n",
       "      <td>finished</td>\n",
       "    </tr>\n",
       "    <tr>\n",
       "      <th>incomplete</th>\n",
       "      <td>-0.124750</td>\n",
       "      <td>-1.398258</td>\n",
       "      <td>incomplete</td>\n",
       "    </tr>\n",
       "    <tr>\n",
       "      <th>complete</th>\n",
       "      <td>1.921671</td>\n",
       "      <td>3.858558</td>\n",
       "      <td>complete</td>\n",
       "    </tr>\n",
       "    <tr>\n",
       "      <th>positive</th>\n",
       "      <td>1.353585</td>\n",
       "      <td>3.675498</td>\n",
       "      <td>positive</td>\n",
       "    </tr>\n",
       "    <tr>\n",
       "      <th>negative</th>\n",
       "      <td>-0.037737</td>\n",
       "      <td>-2.309492</td>\n",
       "      <td>negative</td>\n",
       "    </tr>\n",
       "    <tr>\n",
       "      <th>big</th>\n",
       "      <td>1.956931</td>\n",
       "      <td>1.618419</td>\n",
       "      <td>big</td>\n",
       "    </tr>\n",
       "    <tr>\n",
       "      <th>small</th>\n",
       "      <td>1.809458</td>\n",
       "      <td>3.669150</td>\n",
       "      <td>small</td>\n",
       "    </tr>\n",
       "    <tr>\n",
       "      <th>little</th>\n",
       "      <td>1.090575</td>\n",
       "      <td>1.927027</td>\n",
       "      <td>little</td>\n",
       "    </tr>\n",
       "    <tr>\n",
       "      <th>enormous</th>\n",
       "      <td>1.925197</td>\n",
       "      <td>2.491294</td>\n",
       "      <td>enormous</td>\n",
       "    </tr>\n",
       "    <tr>\n",
       "      <th>beginning</th>\n",
       "      <td>0.476204</td>\n",
       "      <td>0.805232</td>\n",
       "      <td>beginning</td>\n",
       "    </tr>\n",
       "    <tr>\n",
       "      <th>end</th>\n",
       "      <td>-0.460891</td>\n",
       "      <td>1.568868</td>\n",
       "      <td>end</td>\n",
       "    </tr>\n",
       "    <tr>\n",
       "      <th>future</th>\n",
       "      <td>2.099606</td>\n",
       "      <td>3.334423</td>\n",
       "      <td>future</td>\n",
       "    </tr>\n",
       "    <tr>\n",
       "      <th>past</th>\n",
       "      <td>0.322365</td>\n",
       "      <td>0.353646</td>\n",
       "      <td>past</td>\n",
       "    </tr>\n",
       "    <tr>\n",
       "      <th>spirit</th>\n",
       "      <td>1.254198</td>\n",
       "      <td>7.137638</td>\n",
       "      <td>spirit</td>\n",
       "    </tr>\n",
       "    <tr>\n",
       "      <th>body</th>\n",
       "      <td>0.913171</td>\n",
       "      <td>3.698310</td>\n",
       "      <td>body</td>\n",
       "    </tr>\n",
       "    <tr>\n",
       "      <th>virtuous</th>\n",
       "      <td>0.565870</td>\n",
       "      <td>1.651996</td>\n",
       "      <td>virtuous</td>\n",
       "    </tr>\n",
       "    <tr>\n",
       "      <th>sinful</th>\n",
       "      <td>0.127401</td>\n",
       "      <td>-0.793008</td>\n",
       "      <td>sinful</td>\n",
       "    </tr>\n",
       "    <tr>\n",
       "      <th>active</th>\n",
       "      <td>1.835548</td>\n",
       "      <td>3.866884</td>\n",
       "      <td>active</td>\n",
       "    </tr>\n",
       "    <tr>\n",
       "      <th>passive</th>\n",
       "      <td>0.279218</td>\n",
       "      <td>1.664912</td>\n",
       "      <td>passive</td>\n",
       "    </tr>\n",
       "    <tr>\n",
       "      <th>hot</th>\n",
       "      <td>0.745637</td>\n",
       "      <td>1.026198</td>\n",
       "      <td>hot</td>\n",
       "    </tr>\n",
       "    <tr>\n",
       "      <th>cold</th>\n",
       "      <td>-0.509107</td>\n",
       "      <td>-0.272486</td>\n",
       "      <td>cold</td>\n",
       "    </tr>\n",
       "    <tr>\n",
       "      <th>loud</th>\n",
       "      <td>-1.396176</td>\n",
       "      <td>-1.231437</td>\n",
       "      <td>loud</td>\n",
       "    </tr>\n",
       "    <tr>\n",
       "      <th>quiet</th>\n",
       "      <td>-0.501186</td>\n",
       "      <td>3.722582</td>\n",
       "      <td>quiet</td>\n",
       "    </tr>\n",
       "    <tr>\n",
       "      <th>normal</th>\n",
       "      <td>1.043336</td>\n",
       "      <td>2.400528</td>\n",
       "      <td>normal</td>\n",
       "    </tr>\n",
       "    <tr>\n",
       "      <th>eccentric</th>\n",
       "      <td>0.993033</td>\n",
       "      <td>2.165795</td>\n",
       "      <td>eccentric</td>\n",
       "    </tr>\n",
       "    <tr>\n",
       "      <th>strange</th>\n",
       "      <td>0.471102</td>\n",
       "      <td>0.796283</td>\n",
       "      <td>strange</td>\n",
       "    </tr>\n",
       "    <tr>\n",
       "      <th>front</th>\n",
       "      <td>-0.450364</td>\n",
       "      <td>4.062198</td>\n",
       "      <td>front</td>\n",
       "    </tr>\n",
       "    <tr>\n",
       "      <th>back</th>\n",
       "      <td>-0.538891</td>\n",
       "      <td>1.948449</td>\n",
       "      <td>back</td>\n",
       "    </tr>\n",
       "    <tr>\n",
       "      <th>on</th>\n",
       "      <td>0.115938</td>\n",
       "      <td>2.358079</td>\n",
       "      <td>on</td>\n",
       "    </tr>\n",
       "    <tr>\n",
       "      <th>off</th>\n",
       "      <td>-1.328914</td>\n",
       "      <td>1.209914</td>\n",
       "      <td>off</td>\n",
       "    </tr>\n",
       "  </tbody>\n",
       "</table>\n",
       "</div>"
      ],
      "text/plain": [
       "               height    second         name\n",
       "0                                           \n",
       "happy        1.792510  4.115847        happy\n",
       "sad          0.859652 -1.944277          sad\n",
       "rich         2.887585  5.006661         rich\n",
       "poor         1.318398  0.510735         poor\n",
       "important    3.025564  5.795462    important\n",
       "unimportant  0.512193 -1.783902  unimportant\n",
       "good         2.627740  6.257723         good\n",
       "bad          0.421010 -4.757310          bad\n",
       "evil        -0.104641 -0.360397         evil\n",
       "healthy      2.670279  4.947079      healthy\n",
       "ill          0.473419 -1.838928          ill\n",
       "high         0.571788  3.150527         high\n",
       "low         -0.054458  1.378621          low\n",
       "up           0.198731  2.652228           up\n",
       "down        -2.510700  0.445498         down\n",
       "conscious    1.154757  1.071025    conscious\n",
       "unconscious -1.804858 -2.086576  unconscious\n",
       "more         2.675395  3.308175         more\n",
       "less         1.854727  2.820121         less\n",
       "unknown      0.756882  0.421641      unknown\n",
       "known        1.728611  2.412430        known\n",
       "finished     0.342291  4.374879     finished\n",
       "incomplete  -0.124750 -1.398258   incomplete\n",
       "complete     1.921671  3.858558     complete\n",
       "positive     1.353585  3.675498     positive\n",
       "negative    -0.037737 -2.309492     negative\n",
       "big          1.956931  1.618419          big\n",
       "small        1.809458  3.669150        small\n",
       "little       1.090575  1.927027       little\n",
       "enormous     1.925197  2.491294     enormous\n",
       "beginning    0.476204  0.805232    beginning\n",
       "end         -0.460891  1.568868          end\n",
       "future       2.099606  3.334423       future\n",
       "past         0.322365  0.353646         past\n",
       "spirit       1.254198  7.137638       spirit\n",
       "body         0.913171  3.698310         body\n",
       "virtuous     0.565870  1.651996     virtuous\n",
       "sinful       0.127401 -0.793008       sinful\n",
       "active       1.835548  3.866884       active\n",
       "passive      0.279218  1.664912      passive\n",
       "hot          0.745637  1.026198          hot\n",
       "cold        -0.509107 -0.272486         cold\n",
       "loud        -1.396176 -1.231437         loud\n",
       "quiet       -0.501186  3.722582        quiet\n",
       "normal       1.043336  2.400528       normal\n",
       "eccentric    0.993033  2.165795    eccentric\n",
       "strange      0.471102  0.796283      strange\n",
       "front       -0.450364  4.062198        front\n",
       "back        -0.538891  1.948449         back\n",
       "on           0.115938  2.358079           on\n",
       "off         -1.328914  1.209914          off"
      ]
     },
     "execution_count": 92,
     "metadata": {},
     "output_type": "execute_result"
    }
   ],
   "source": [
    "df_plot = df.loc[whatever].dot(proj)\n",
    "df_plot[\"name\"] = df_plot.index\n",
    "df_plot"
   ]
  },
  {
   "cell_type": "code",
   "execution_count": 93,
   "metadata": {
    "collapsed": false
   },
   "outputs": [
    {
     "name": "stdout",
     "output_type": "stream",
     "text": [
      "The rpy2.ipython extension is already loaded. To reload it, use:\n",
      "  %reload_ext rpy2.ipython\n"
     ]
    }
   ],
   "source": [
    "%load_ext rpy2.ipython"
   ]
  },
  {
   "cell_type": "code",
   "execution_count": 73,
   "metadata": {
    "collapsed": false
   },
   "outputs": [
    {
     "data": {
      "image/png": "[encoded data removed]"
     },
     "metadata": {},
     "output_type": "display_data"
    }
   ],
   "source": [
    "%%R -i df_plot\n",
    "library(ggplot2)\n",
    "\n",
    "ggplot(df_plot, aes(height, second, label=name)) +\n",
    "  geom_text()"
   ]
  },
  {
   "cell_type": "code",
   "execution_count": 94,
   "metadata": {
    "collapsed": false
   },
   "outputs": [
    {
     "data": {
      "image/png": "[encoded data removed]"
     },
     "metadata": {},
     "output_type": "display_data"
    }
   ],
   "source": [
    "%%R -i df_plot\n",
    "library(ggplot2)\n",
    "\n",
    "ggplot(df_plot, aes(height, second, label=name)) +\n",
    "  geom_text()"
   ]
  },
  {
   "cell_type": "code",
   "execution_count": null,
   "metadata": {
    "collapsed": true
   },
   "outputs": [],
   "source": []
  }
 ],
 "metadata": {
  "anaconda-cloud": {},
  "kernelspec": {
   "display_name": "Python [Root]",
   "language": "python",
   "name": "Python [Root]"
  },
  "language_info": {
   "codemirror_mode": {
    "name": "ipython",
    "version": 3
   },
   "file_extension": ".py",
   "mimetype": "text/x-python",
   "name": "python",
   "nbconvert_exporter": "python",
   "pygments_lexer": "ipython3",
   "version": "3.5.2"
  }
 },
 "nbformat": 4,
 "nbformat_minor": 0
}
