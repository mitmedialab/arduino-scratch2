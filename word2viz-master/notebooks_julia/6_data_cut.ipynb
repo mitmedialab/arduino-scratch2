{
 "cells": [
  {
   "cell_type": "code",
   "execution_count": 4,
   "metadata": {
    "collapsed": true
   },
   "outputs": [],
   "source": [
    "import pandas as pd\n",
    "import numpy as np\n",
    "import seaborn as sns\n",
    "%matplotlib inline\n",
    "import myutils as my"
   ]
  },
  {
   "cell_type": "code",
   "execution_count": 5,
   "metadata": {
    "collapsed": true
   },
   "outputs": [],
   "source": [
    "df = pd.read_table(\"./data/glove.6B.50d.txt\", delimiter=\" \", header=None, index_col=0, quoting=3)"
   ]
  },
  {
   "cell_type": "code",
   "execution_count": 6,
   "metadata": {
    "collapsed": true
   },
   "outputs": [],
   "source": [
    "proj_sorted = df.dot(df.mean()).sort_values().head(100000)"
   ]
  },
  {
   "cell_type": "code",
   "execution_count": 7,
   "metadata": {
    "collapsed": false
   },
   "outputs": [],
   "source": [
    "good_words = set(proj_sorted.index)"
   ]
  },
  {
   "cell_type": "code",
   "execution_count": 8,
   "metadata": {
    "collapsed": true
   },
   "outputs": [],
   "source": [
    "df_filtered = df[df.index.isin(good_words)]"
   ]
  },
  {
   "cell_type": "code",
   "execution_count": 9,
   "metadata": {
    "collapsed": false
   },
   "outputs": [],
   "source": [
    "df_filtered.to_csv(open(\"./data/minimal.50d.3f.csv\", \"w\"), float_format=\"%0.3f\")"
   ]
  },
  {
   "cell_type": "code",
   "execution_count": 31,
   "metadata": {
    "collapsed": false
   },
   "outputs": [],
   "source": [
    "df = pd.DataFrame(pd.read_csv(\"./data/minimal.50d.3f.csv\"))"
   ]
  },
  {
   "cell_type": "code",
   "execution_count": 33,
   "metadata": {
    "collapsed": false
   },
   "outputs": [
    {
     "data": {
      "text/html": [
       "<div>\n",
       "<table border=\"1\" class=\"dataframe\">\n",
       "  <thead>\n",
       "    <tr style=\"text-align: right;\">\n",
       "      <th></th>\n",
       "      <th>0</th>\n",
       "      <th>1</th>\n",
       "      <th>2</th>\n",
       "      <th>3</th>\n",
       "      <th>4</th>\n",
       "      <th>5</th>\n",
       "      <th>6</th>\n",
       "      <th>7</th>\n",
       "      <th>8</th>\n",
       "      <th>9</th>\n",
       "      <th>...</th>\n",
       "      <th>41</th>\n",
       "      <th>42</th>\n",
       "      <th>43</th>\n",
       "      <th>44</th>\n",
       "      <th>45</th>\n",
       "      <th>46</th>\n",
       "      <th>47</th>\n",
       "      <th>48</th>\n",
       "      <th>49</th>\n",
       "      <th>50</th>\n",
       "    </tr>\n",
       "  </thead>\n",
       "  <tbody>\n",
       "    <tr>\n",
       "      <th>0</th>\n",
       "      <td>the</td>\n",
       "      <td>0.418</td>\n",
       "      <td>0.250</td>\n",
       "      <td>-0.412</td>\n",
       "      <td>0.122</td>\n",
       "      <td>0.345</td>\n",
       "      <td>-0.044</td>\n",
       "      <td>-0.497</td>\n",
       "      <td>-0.179</td>\n",
       "      <td>-0.001</td>\n",
       "      <td>...</td>\n",
       "      <td>-0.299</td>\n",
       "      <td>-0.157</td>\n",
       "      <td>-0.348</td>\n",
       "      <td>-0.046</td>\n",
       "      <td>-0.443</td>\n",
       "      <td>0.188</td>\n",
       "      <td>0.003</td>\n",
       "      <td>-0.184</td>\n",
       "      <td>-0.115</td>\n",
       "      <td>-0.786</td>\n",
       "    </tr>\n",
       "    <tr>\n",
       "      <th>1</th>\n",
       "      <td>,</td>\n",
       "      <td>0.013</td>\n",
       "      <td>0.237</td>\n",
       "      <td>-0.169</td>\n",
       "      <td>0.410</td>\n",
       "      <td>0.638</td>\n",
       "      <td>0.477</td>\n",
       "      <td>-0.429</td>\n",
       "      <td>-0.556</td>\n",
       "      <td>-0.364</td>\n",
       "      <td>...</td>\n",
       "      <td>-0.080</td>\n",
       "      <td>0.630</td>\n",
       "      <td>0.321</td>\n",
       "      <td>-0.468</td>\n",
       "      <td>0.228</td>\n",
       "      <td>0.360</td>\n",
       "      <td>-0.378</td>\n",
       "      <td>-0.567</td>\n",
       "      <td>0.045</td>\n",
       "      <td>0.304</td>\n",
       "    </tr>\n",
       "    <tr>\n",
       "      <th>2</th>\n",
       "      <td>.</td>\n",
       "      <td>0.152</td>\n",
       "      <td>0.302</td>\n",
       "      <td>-0.168</td>\n",
       "      <td>0.177</td>\n",
       "      <td>0.317</td>\n",
       "      <td>0.340</td>\n",
       "      <td>-0.435</td>\n",
       "      <td>-0.311</td>\n",
       "      <td>-0.450</td>\n",
       "      <td>...</td>\n",
       "      <td>-0.000</td>\n",
       "      <td>0.069</td>\n",
       "      <td>0.088</td>\n",
       "      <td>-0.103</td>\n",
       "      <td>-0.139</td>\n",
       "      <td>0.223</td>\n",
       "      <td>-0.081</td>\n",
       "      <td>-0.357</td>\n",
       "      <td>0.016</td>\n",
       "      <td>0.102</td>\n",
       "    </tr>\n",
       "    <tr>\n",
       "      <th>3</th>\n",
       "      <td>of</td>\n",
       "      <td>0.709</td>\n",
       "      <td>0.571</td>\n",
       "      <td>-0.472</td>\n",
       "      <td>0.180</td>\n",
       "      <td>0.544</td>\n",
       "      <td>0.726</td>\n",
       "      <td>0.182</td>\n",
       "      <td>-0.524</td>\n",
       "      <td>0.104</td>\n",
       "      <td>...</td>\n",
       "      <td>-0.347</td>\n",
       "      <td>0.285</td>\n",
       "      <td>0.076</td>\n",
       "      <td>-0.062</td>\n",
       "      <td>-0.390</td>\n",
       "      <td>0.229</td>\n",
       "      <td>-0.216</td>\n",
       "      <td>-0.226</td>\n",
       "      <td>-0.094</td>\n",
       "      <td>-0.804</td>\n",
       "    </tr>\n",
       "    <tr>\n",
       "      <th>4</th>\n",
       "      <td>to</td>\n",
       "      <td>0.680</td>\n",
       "      <td>-0.039</td>\n",
       "      <td>0.302</td>\n",
       "      <td>-0.178</td>\n",
       "      <td>0.430</td>\n",
       "      <td>0.032</td>\n",
       "      <td>-0.414</td>\n",
       "      <td>0.132</td>\n",
       "      <td>-0.298</td>\n",
       "      <td>...</td>\n",
       "      <td>-0.094</td>\n",
       "      <td>0.018</td>\n",
       "      <td>0.210</td>\n",
       "      <td>-0.031</td>\n",
       "      <td>-0.197</td>\n",
       "      <td>0.082</td>\n",
       "      <td>-0.094</td>\n",
       "      <td>-0.073</td>\n",
       "      <td>-0.065</td>\n",
       "      <td>-0.260</td>\n",
       "    </tr>\n",
       "  </tbody>\n",
       "</table>\n",
       "<p>5 rows × 51 columns</p>\n",
       "</div>"
      ],
      "text/plain": [
       "     0      1      2      3      4      5      6      7      8      9  ...    \\\n",
       "0  the  0.418  0.250 -0.412  0.122  0.345 -0.044 -0.497 -0.179 -0.001  ...     \n",
       "1    ,  0.013  0.237 -0.169  0.410  0.638  0.477 -0.429 -0.556 -0.364  ...     \n",
       "2    .  0.152  0.302 -0.168  0.177  0.317  0.340 -0.435 -0.311 -0.450  ...     \n",
       "3   of  0.709  0.571 -0.472  0.180  0.544  0.726  0.182 -0.524  0.104  ...     \n",
       "4   to  0.680 -0.039  0.302 -0.178  0.430  0.032 -0.414  0.132 -0.298  ...     \n",
       "\n",
       "      41     42     43     44     45     46     47     48     49     50  \n",
       "0 -0.299 -0.157 -0.348 -0.046 -0.443  0.188  0.003 -0.184 -0.115 -0.786  \n",
       "1 -0.080  0.630  0.321 -0.468  0.228  0.360 -0.378 -0.567  0.045  0.304  \n",
       "2 -0.000  0.069  0.088 -0.103 -0.139  0.223 -0.081 -0.357  0.016  0.102  \n",
       "3 -0.347  0.285  0.076 -0.062 -0.390  0.229 -0.216 -0.226 -0.094 -0.804  \n",
       "4 -0.094  0.018  0.210 -0.031 -0.197  0.082 -0.094 -0.073 -0.065 -0.260  \n",
       "\n",
       "[5 rows x 51 columns]"
      ]
     },
     "execution_count": 33,
     "metadata": {},
     "output_type": "execute_result"
    }
   ],
   "source": [
    "df.head()"
   ]
  },
  {
   "cell_type": "code",
   "execution_count": 35,
   "metadata": {
    "collapsed": true
   },
   "outputs": [],
   "source": [
    "df_filtered.to_csv(open(\"./data/minimal.50d.6f.csv\", \"w\"), float_format=\"%0.6f\")"
   ]
  },
  {
   "cell_type": "code",
   "execution_count": 11,
   "metadata": {
    "collapsed": false
   },
   "outputs": [
    {
     "ename": "TypeError",
     "evalue": "unhashable type: 'slice'",
     "output_type": "error",
     "traceback": [
      "\u001b[1;31m---------------------------------------------------------------------------\u001b[0m",
      "\u001b[1;31mTypeError\u001b[0m                                 Traceback (most recent call last)",
      "\u001b[1;32m<ipython-input-11-031db0bd42d7>\u001b[0m in \u001b[0;36m<module>\u001b[1;34m()\u001b[0m\n\u001b[1;32m----> 1\u001b[1;33m \u001b[0mdf_filtered\u001b[0m\u001b[1;33m.\u001b[0m\u001b[0mto_dict\u001b[0m\u001b[1;33m(\u001b[0m\u001b[1;34m'index'\u001b[0m\u001b[1;33m)\u001b[0m\u001b[1;33m[\u001b[0m\u001b[1;33m:\u001b[0m\u001b[1;36m2\u001b[0m\u001b[1;33m]\u001b[0m\u001b[1;33m\u001b[0m\u001b[0m\n\u001b[0m",
      "\u001b[1;31mTypeError\u001b[0m: unhashable type: 'slice'"
     ]
    }
   ],
   "source": [
    "df_filtered.to_dict('index')[:2]"
   ]
  },
  {
   "cell_type": "code",
   "execution_count": 17,
   "metadata": {
    "collapsed": false
   },
   "outputs": [],
   "source": [
    "df_filtered.to_json(open(\"./data/minimal.3f.json\", \"w\"), 'records')"
   ]
  },
  {
   "cell_type": "code",
   "execution_count": null,
   "metadata": {
    "collapsed": true
   },
   "outputs": [],
   "source": []
  }
 ],
 "metadata": {
  "anaconda-cloud": {},
  "kernelspec": {
   "display_name": "Python [Root]",
   "language": "python",
   "name": "Python [Root]"
  },
  "language_info": {
   "codemirror_mode": {
    "name": "ipython",
    "version": 3
   },
   "file_extension": ".py",
   "mimetype": "text/x-python",
   "name": "python",
   "nbconvert_exporter": "python",
   "pygments_lexer": "ipython3",
   "version": "3.5.2"
  }
 },
 "nbformat": 4,
 "nbformat_minor": 0
}
