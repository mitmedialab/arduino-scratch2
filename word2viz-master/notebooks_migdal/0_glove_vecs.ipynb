{
 "cells": [
  {
   "cell_type": "code",
   "execution_count": 6,
   "metadata": {
    "collapsed": false
   },
   "outputs": [],
   "source": [
    "%matplotlib inline\n",
    "import pandas as pd\n",
    "import numpy as np\n",
    "import seaborn as sns"
   ]
  },
  {
   "cell_type": "code",
   "execution_count": 3,
   "metadata": {
    "collapsed": false
   },
   "outputs": [],
   "source": [
    "df = pd.read_table(\"/Volumes/Macintosh HD/Data/glove.6B/glove.6B.50d.txt\", delimiter=\" \", header=None, index_col=0, quoting=3)"
   ]
  },
  {
   "cell_type": "code",
   "execution_count": 4,
   "metadata": {
    "collapsed": false
   },
   "outputs": [
    {
     "data": {
      "text/html": [
       "<div>\n",
       "<table border=\"1\" class=\"dataframe\">\n",
       "  <thead>\n",
       "    <tr style=\"text-align: right;\">\n",
       "      <th></th>\n",
       "      <th>1</th>\n",
       "      <th>2</th>\n",
       "      <th>3</th>\n",
       "      <th>4</th>\n",
       "      <th>5</th>\n",
       "      <th>6</th>\n",
       "      <th>7</th>\n",
       "      <th>8</th>\n",
       "      <th>9</th>\n",
       "      <th>10</th>\n",
       "      <th>...</th>\n",
       "      <th>41</th>\n",
       "      <th>42</th>\n",
       "      <th>43</th>\n",
       "      <th>44</th>\n",
       "      <th>45</th>\n",
       "      <th>46</th>\n",
       "      <th>47</th>\n",
       "      <th>48</th>\n",
       "      <th>49</th>\n",
       "      <th>50</th>\n",
       "    </tr>\n",
       "    <tr>\n",
       "      <th>0</th>\n",
       "      <th></th>\n",
       "      <th></th>\n",
       "      <th></th>\n",
       "      <th></th>\n",
       "      <th></th>\n",
       "      <th></th>\n",
       "      <th></th>\n",
       "      <th></th>\n",
       "      <th></th>\n",
       "      <th></th>\n",
       "      <th></th>\n",
       "      <th></th>\n",
       "      <th></th>\n",
       "      <th></th>\n",
       "      <th></th>\n",
       "      <th></th>\n",
       "      <th></th>\n",
       "      <th></th>\n",
       "      <th></th>\n",
       "      <th></th>\n",
       "      <th></th>\n",
       "    </tr>\n",
       "  </thead>\n",
       "  <tbody>\n",
       "    <tr>\n",
       "      <th>the</th>\n",
       "      <td>0.418000</td>\n",
       "      <td>0.249680</td>\n",
       "      <td>-0.41242</td>\n",
       "      <td>0.12170</td>\n",
       "      <td>0.34527</td>\n",
       "      <td>-0.044457</td>\n",
       "      <td>-0.49688</td>\n",
       "      <td>-0.17862</td>\n",
       "      <td>-0.00066</td>\n",
       "      <td>-0.656600</td>\n",
       "      <td>...</td>\n",
       "      <td>-0.298710</td>\n",
       "      <td>-0.157490</td>\n",
       "      <td>-0.347580</td>\n",
       "      <td>-0.045637</td>\n",
       "      <td>-0.44251</td>\n",
       "      <td>0.187850</td>\n",
       "      <td>0.002785</td>\n",
       "      <td>-0.184110</td>\n",
       "      <td>-0.115140</td>\n",
       "      <td>-0.78581</td>\n",
       "    </tr>\n",
       "    <tr>\n",
       "      <th>,</th>\n",
       "      <td>0.013441</td>\n",
       "      <td>0.236820</td>\n",
       "      <td>-0.16899</td>\n",
       "      <td>0.40951</td>\n",
       "      <td>0.63812</td>\n",
       "      <td>0.477090</td>\n",
       "      <td>-0.42852</td>\n",
       "      <td>-0.55641</td>\n",
       "      <td>-0.36400</td>\n",
       "      <td>-0.239380</td>\n",
       "      <td>...</td>\n",
       "      <td>-0.080262</td>\n",
       "      <td>0.630030</td>\n",
       "      <td>0.321110</td>\n",
       "      <td>-0.467650</td>\n",
       "      <td>0.22786</td>\n",
       "      <td>0.360340</td>\n",
       "      <td>-0.378180</td>\n",
       "      <td>-0.566570</td>\n",
       "      <td>0.044691</td>\n",
       "      <td>0.30392</td>\n",
       "    </tr>\n",
       "    <tr>\n",
       "      <th>.</th>\n",
       "      <td>0.151640</td>\n",
       "      <td>0.301770</td>\n",
       "      <td>-0.16763</td>\n",
       "      <td>0.17684</td>\n",
       "      <td>0.31719</td>\n",
       "      <td>0.339730</td>\n",
       "      <td>-0.43478</td>\n",
       "      <td>-0.31086</td>\n",
       "      <td>-0.44999</td>\n",
       "      <td>-0.294860</td>\n",
       "      <td>...</td>\n",
       "      <td>-0.000064</td>\n",
       "      <td>0.068987</td>\n",
       "      <td>0.087939</td>\n",
       "      <td>-0.102850</td>\n",
       "      <td>-0.13931</td>\n",
       "      <td>0.223140</td>\n",
       "      <td>-0.080803</td>\n",
       "      <td>-0.356520</td>\n",
       "      <td>0.016413</td>\n",
       "      <td>0.10216</td>\n",
       "    </tr>\n",
       "    <tr>\n",
       "      <th>of</th>\n",
       "      <td>0.708530</td>\n",
       "      <td>0.570880</td>\n",
       "      <td>-0.47160</td>\n",
       "      <td>0.18048</td>\n",
       "      <td>0.54449</td>\n",
       "      <td>0.726030</td>\n",
       "      <td>0.18157</td>\n",
       "      <td>-0.52393</td>\n",
       "      <td>0.10381</td>\n",
       "      <td>-0.175660</td>\n",
       "      <td>...</td>\n",
       "      <td>-0.347270</td>\n",
       "      <td>0.284830</td>\n",
       "      <td>0.075693</td>\n",
       "      <td>-0.062178</td>\n",
       "      <td>-0.38988</td>\n",
       "      <td>0.229020</td>\n",
       "      <td>-0.216170</td>\n",
       "      <td>-0.225620</td>\n",
       "      <td>-0.093918</td>\n",
       "      <td>-0.80375</td>\n",
       "    </tr>\n",
       "    <tr>\n",
       "      <th>to</th>\n",
       "      <td>0.680470</td>\n",
       "      <td>-0.039263</td>\n",
       "      <td>0.30186</td>\n",
       "      <td>-0.17792</td>\n",
       "      <td>0.42962</td>\n",
       "      <td>0.032246</td>\n",
       "      <td>-0.41376</td>\n",
       "      <td>0.13228</td>\n",
       "      <td>-0.29847</td>\n",
       "      <td>-0.085253</td>\n",
       "      <td>...</td>\n",
       "      <td>-0.094375</td>\n",
       "      <td>0.018324</td>\n",
       "      <td>0.210480</td>\n",
       "      <td>-0.030880</td>\n",
       "      <td>-0.19722</td>\n",
       "      <td>0.082279</td>\n",
       "      <td>-0.094340</td>\n",
       "      <td>-0.073297</td>\n",
       "      <td>-0.064699</td>\n",
       "      <td>-0.26044</td>\n",
       "    </tr>\n",
       "  </tbody>\n",
       "</table>\n",
       "<p>5 rows × 50 columns</p>\n",
       "</div>"
      ],
      "text/plain": [
       "           1         2        3        4        5         6        7   \\\n",
       "0                                                                       \n",
       "the  0.418000  0.249680 -0.41242  0.12170  0.34527 -0.044457 -0.49688   \n",
       ",    0.013441  0.236820 -0.16899  0.40951  0.63812  0.477090 -0.42852   \n",
       ".    0.151640  0.301770 -0.16763  0.17684  0.31719  0.339730 -0.43478   \n",
       "of   0.708530  0.570880 -0.47160  0.18048  0.54449  0.726030  0.18157   \n",
       "to   0.680470 -0.039263  0.30186 -0.17792  0.42962  0.032246 -0.41376   \n",
       "\n",
       "          8        9         10   ...           41        42        43  \\\n",
       "0                                 ...                                    \n",
       "the -0.17862 -0.00066 -0.656600   ...    -0.298710 -0.157490 -0.347580   \n",
       ",   -0.55641 -0.36400 -0.239380   ...    -0.080262  0.630030  0.321110   \n",
       ".   -0.31086 -0.44999 -0.294860   ...    -0.000064  0.068987  0.087939   \n",
       "of  -0.52393  0.10381 -0.175660   ...    -0.347270  0.284830  0.075693   \n",
       "to   0.13228 -0.29847 -0.085253   ...    -0.094375  0.018324  0.210480   \n",
       "\n",
       "           44       45        46        47        48        49       50  \n",
       "0                                                                        \n",
       "the -0.045637 -0.44251  0.187850  0.002785 -0.184110 -0.115140 -0.78581  \n",
       ",   -0.467650  0.22786  0.360340 -0.378180 -0.566570  0.044691  0.30392  \n",
       ".   -0.102850 -0.13931  0.223140 -0.080803 -0.356520  0.016413  0.10216  \n",
       "of  -0.062178 -0.38988  0.229020 -0.216170 -0.225620 -0.093918 -0.80375  \n",
       "to  -0.030880 -0.19722  0.082279 -0.094340 -0.073297 -0.064699 -0.26044  \n",
       "\n",
       "[5 rows x 50 columns]"
      ]
     },
     "execution_count": 4,
     "metadata": {},
     "output_type": "execute_result"
    }
   ],
   "source": [
    "df.head()"
   ]
  },
  {
   "cell_type": "code",
   "execution_count": 5,
   "metadata": {
    "collapsed": false
   },
   "outputs": [
    {
     "data": {
      "text/plain": [
       "1     0.356420\n",
       "2     1.183400\n",
       "3    -0.103870\n",
       "4     0.222150\n",
       "5     0.141760\n",
       "6     1.090300\n",
       "7    -0.214050\n",
       "8     0.256160\n",
       "9    -0.607690\n",
       "10   -0.387420\n",
       "11   -0.439190\n",
       "12    0.903770\n",
       "13   -0.444130\n",
       "14    0.343960\n",
       "15    0.608790\n",
       "16   -0.148300\n",
       "17   -0.003953\n",
       "18   -0.428400\n",
       "19    0.318940\n",
       "20    0.215500\n",
       "21    0.225790\n",
       "22    0.734510\n",
       "23    0.301400\n",
       "24    0.623730\n",
       "25    1.028200\n",
       "26   -0.731920\n",
       "27    0.286400\n",
       "28   -0.350820\n",
       "29   -0.499460\n",
       "30   -0.290590\n",
       "31    0.352810\n",
       "32    0.398140\n",
       "33    0.268610\n",
       "34   -0.429490\n",
       "35   -0.295730\n",
       "36   -0.395670\n",
       "37   -0.200520\n",
       "38    0.744380\n",
       "39    0.373960\n",
       "40   -0.600440\n",
       "41    0.342190\n",
       "42    0.969090\n",
       "43    0.538070\n",
       "44   -1.321000\n",
       "45   -0.024624\n",
       "46    0.662180\n",
       "47   -0.302280\n",
       "48   -1.704600\n",
       "49    0.634820\n",
       "50    0.935580\n",
       "Name: julia, dtype: float64"
      ]
     },
     "execution_count": 5,
     "metadata": {},
     "output_type": "execute_result"
    }
   ],
   "source": [
    "df.loc[\"julia\"]"
   ]
  },
  {
   "cell_type": "code",
   "execution_count": 4,
   "metadata": {
    "collapsed": false
   },
   "outputs": [],
   "source": [
    "words = set(df.index)"
   ]
  },
  {
   "cell_type": "code",
   "execution_count": 5,
   "metadata": {
    "collapsed": false
   },
   "outputs": [
    {
     "data": {
      "text/plain": [
       "True"
      ]
     },
     "execution_count": 5,
     "metadata": {},
     "output_type": "execute_result"
    }
   ],
   "source": [
    "\"daniel\" in words"
   ]
  },
  {
   "cell_type": "code",
   "execution_count": 6,
   "metadata": {
    "collapsed": false
   },
   "outputs": [
    {
     "data": {
      "text/plain": [
       "<seaborn.matrix.ClusterGrid at 0x124230978>"
      ]
     },
     "execution_count": 6,
     "metadata": {},
     "output_type": "execute_result"
    },
    {
     "data": {
      "image/png": "[encoded data removed]",
      "text/plain": [
       "<matplotlib.figure.Figure at 0x124230a58>"
      ]
     },
     "metadata": {},
     "output_type": "display_data"
    }
   ],
   "source": [
    "sns.clustermap(df.loc[[\"daniel\", \"adrian\", \"john\", \"kate\", \"julia\", \"anne\"]].transpose().corr())"
   ]
  },
  {
   "cell_type": "code",
   "execution_count": 7,
   "metadata": {
    "collapsed": false
   },
   "outputs": [
    {
     "data": {
      "text/plain": [
       "<seaborn.matrix.ClusterGrid at 0x110bdeeb8>"
      ]
     },
     "execution_count": 7,
     "metadata": {},
     "output_type": "execute_result"
    },
    {
     "data": {
      "image/png": "[encoded data removed]",
      "text/plain": [
       "<matplotlib.figure.Figure at 0x110bdedd8>"
      ]
     },
     "metadata": {},
     "output_type": "display_data"
    }
   ],
   "source": [
    "sns.clustermap(df.loc[[\"hotel\", \"motel\", \"guesthouse\", \"bar\", \"pub\", \"party\"]].transpose().corr())"
   ]
  },
  {
   "cell_type": "code",
   "execution_count": 8,
   "metadata": {
    "collapsed": false
   },
   "outputs": [
    {
     "data": {
      "text/plain": [
       "-6.5869068840070009"
      ]
     },
     "execution_count": 8,
     "metadata": {},
     "output_type": "execute_result"
    }
   ],
   "source": [
    "np.dot(df.loc[\"kate\"],  df.loc[\"he\"] - df.loc[\"she\"])"
   ]
  },
  {
   "cell_type": "code",
   "execution_count": 9,
   "metadata": {
    "collapsed": false
   },
   "outputs": [
    {
     "data": {
      "text/plain": [
       "2.5265921501259196"
      ]
     },
     "execution_count": 9,
     "metadata": {},
     "output_type": "execute_result"
    }
   ],
   "source": [
    "np.dot(df.loc[\"john\"],  df.loc[\"he\"] - df.loc[\"she\"])"
   ]
  },
  {
   "cell_type": "code",
   "execution_count": 10,
   "metadata": {
    "collapsed": false
   },
   "outputs": [
    {
     "data": {
      "text/plain": [
       "True"
      ]
     },
     "execution_count": 10,
     "metadata": {},
     "output_type": "execute_result"
    }
   ],
   "source": [
    "names = [\"kate\", \"catherine\", \"john\", \"mark\", \"peter\", \"anna\", \"julia\", \"jacob\", \"jake\",\n",
    "         \"richard\", \"ted\", \"theodore\", \"sue\", \"susanne\", \"suzanne\", \"susan\", \"mary\",\n",
    "         \"leo\", \"leonard\", \"alexander\", \"alexandra\", \"alex\", \"sasha\"]\n",
    "all([name in words for name in names])"
   ]
  },
  {
   "cell_type": "code",
   "execution_count": 11,
   "metadata": {
    "collapsed": true
   },
   "outputs": [],
   "source": [
    "gender = df.loc[\"he\"] - df.loc[\"she\"]"
   ]
  },
  {
   "cell_type": "code",
   "execution_count": 12,
   "metadata": {
    "collapsed": false
   },
   "outputs": [
    {
     "data": {
      "text/plain": [
       "0\n",
       "anna        -7.344199\n",
       "kate        -6.586907\n",
       "susan       -5.699029\n",
       "julia       -5.126295\n",
       "mary        -4.743954\n",
       "sasha       -4.371697\n",
       "catherine   -4.177077\n",
       "alexandra   -4.109371\n",
       "suzanne     -3.833959\n",
       "sue         -2.976699\n",
       "susanne     -2.352316\n",
       "jake        -1.061410\n",
       "alex        -0.501445\n",
       "ted         -0.465928\n",
       "leonard      0.742049\n",
       "peter        0.865114\n",
       "jacob        0.987405\n",
       "richard      1.340372\n",
       "leo          2.063482\n",
       "mark         2.316420\n",
       "alexander    2.471270\n",
       "theodore     2.525033\n",
       "john         2.526592\n",
       "dtype: float64"
      ]
     },
     "execution_count": 12,
     "metadata": {},
     "output_type": "execute_result"
    }
   ],
   "source": [
    "df.loc[names].dot(gender).sort_values()"
   ]
  },
  {
   "cell_type": "code",
   "execution_count": 13,
   "metadata": {
    "collapsed": true
   },
   "outputs": [],
   "source": [
    "diminutive = df.loc[\"kate\"] - df.loc[\"catherine\"]"
   ]
  },
  {
   "cell_type": "code",
   "execution_count": 14,
   "metadata": {
    "collapsed": false
   },
   "outputs": [],
   "source": [
    "proj = pd.DataFrame([gender, diminutive], index=[\"gender\", \"diminutive\"]).transpose()"
   ]
  },
  {
   "cell_type": "code",
   "execution_count": 15,
   "metadata": {
    "collapsed": false
   },
   "outputs": [
    {
     "data": {
      "text/html": [
       "<div>\n",
       "<table border=\"1\" class=\"dataframe\">\n",
       "  <thead>\n",
       "    <tr style=\"text-align: right;\">\n",
       "      <th></th>\n",
       "      <th>gender</th>\n",
       "      <th>diminutive</th>\n",
       "    </tr>\n",
       "    <tr>\n",
       "      <th>0</th>\n",
       "      <th></th>\n",
       "      <th></th>\n",
       "    </tr>\n",
       "  </thead>\n",
       "  <tbody>\n",
       "    <tr>\n",
       "      <th>catherine</th>\n",
       "      <td>-4.177077</td>\n",
       "      <td>-7.004076</td>\n",
       "    </tr>\n",
       "    <tr>\n",
       "      <th>alexander</th>\n",
       "      <td>2.471270</td>\n",
       "      <td>-4.733500</td>\n",
       "    </tr>\n",
       "    <tr>\n",
       "      <th>alexandra</th>\n",
       "      <td>-4.109371</td>\n",
       "      <td>-4.541007</td>\n",
       "    </tr>\n",
       "    <tr>\n",
       "      <th>theodore</th>\n",
       "      <td>2.525033</td>\n",
       "      <td>-3.765326</td>\n",
       "    </tr>\n",
       "    <tr>\n",
       "      <th>leo</th>\n",
       "      <td>2.063482</td>\n",
       "      <td>-3.650150</td>\n",
       "    </tr>\n",
       "    <tr>\n",
       "      <th>mary</th>\n",
       "      <td>-4.743954</td>\n",
       "      <td>-3.394519</td>\n",
       "    </tr>\n",
       "    <tr>\n",
       "      <th>peter</th>\n",
       "      <td>0.865114</td>\n",
       "      <td>-2.686588</td>\n",
       "    </tr>\n",
       "    <tr>\n",
       "      <th>suzanne</th>\n",
       "      <td>-3.833959</td>\n",
       "      <td>-2.250602</td>\n",
       "    </tr>\n",
       "    <tr>\n",
       "      <th>john</th>\n",
       "      <td>2.526592</td>\n",
       "      <td>-2.064688</td>\n",
       "    </tr>\n",
       "    <tr>\n",
       "      <th>anna</th>\n",
       "      <td>-7.344199</td>\n",
       "      <td>-1.825938</td>\n",
       "    </tr>\n",
       "    <tr>\n",
       "      <th>richard</th>\n",
       "      <td>1.340372</td>\n",
       "      <td>-1.676241</td>\n",
       "    </tr>\n",
       "    <tr>\n",
       "      <th>julia</th>\n",
       "      <td>-5.126295</td>\n",
       "      <td>-1.515624</td>\n",
       "    </tr>\n",
       "    <tr>\n",
       "      <th>leonard</th>\n",
       "      <td>0.742049</td>\n",
       "      <td>-1.032691</td>\n",
       "    </tr>\n",
       "    <tr>\n",
       "      <th>jacob</th>\n",
       "      <td>0.987405</td>\n",
       "      <td>-1.013971</td>\n",
       "    </tr>\n",
       "    <tr>\n",
       "      <th>mark</th>\n",
       "      <td>2.316420</td>\n",
       "      <td>-0.163802</td>\n",
       "    </tr>\n",
       "    <tr>\n",
       "      <th>susan</th>\n",
       "      <td>-5.699029</td>\n",
       "      <td>0.546010</td>\n",
       "    </tr>\n",
       "    <tr>\n",
       "      <th>alex</th>\n",
       "      <td>-0.501445</td>\n",
       "      <td>0.580175</td>\n",
       "    </tr>\n",
       "    <tr>\n",
       "      <th>susanne</th>\n",
       "      <td>-2.352316</td>\n",
       "      <td>1.514908</td>\n",
       "    </tr>\n",
       "    <tr>\n",
       "      <th>ted</th>\n",
       "      <td>-0.465928</td>\n",
       "      <td>1.903800</td>\n",
       "    </tr>\n",
       "    <tr>\n",
       "      <th>sue</th>\n",
       "      <td>-2.976699</td>\n",
       "      <td>2.971525</td>\n",
       "    </tr>\n",
       "    <tr>\n",
       "      <th>sasha</th>\n",
       "      <td>-4.371697</td>\n",
       "      <td>4.548008</td>\n",
       "    </tr>\n",
       "    <tr>\n",
       "      <th>jake</th>\n",
       "      <td>-1.061410</td>\n",
       "      <td>6.811162</td>\n",
       "    </tr>\n",
       "    <tr>\n",
       "      <th>kate</th>\n",
       "      <td>-6.586907</td>\n",
       "      <td>7.252618</td>\n",
       "    </tr>\n",
       "  </tbody>\n",
       "</table>\n",
       "</div>"
      ],
      "text/plain": [
       "             gender  diminutive\n",
       "0                              \n",
       "catherine -4.177077   -7.004076\n",
       "alexander  2.471270   -4.733500\n",
       "alexandra -4.109371   -4.541007\n",
       "theodore   2.525033   -3.765326\n",
       "leo        2.063482   -3.650150\n",
       "mary      -4.743954   -3.394519\n",
       "peter      0.865114   -2.686588\n",
       "suzanne   -3.833959   -2.250602\n",
       "john       2.526592   -2.064688\n",
       "anna      -7.344199   -1.825938\n",
       "richard    1.340372   -1.676241\n",
       "julia     -5.126295   -1.515624\n",
       "leonard    0.742049   -1.032691\n",
       "jacob      0.987405   -1.013971\n",
       "mark       2.316420   -0.163802\n",
       "susan     -5.699029    0.546010\n",
       "alex      -0.501445    0.580175\n",
       "susanne   -2.352316    1.514908\n",
       "ted       -0.465928    1.903800\n",
       "sue       -2.976699    2.971525\n",
       "sasha     -4.371697    4.548008\n",
       "jake      -1.061410    6.811162\n",
       "kate      -6.586907    7.252618"
      ]
     },
     "execution_count": 15,
     "metadata": {},
     "output_type": "execute_result"
    }
   ],
   "source": [
    "df_plot = df.loc[names].dot(proj).sort_values(by=\"diminutive\")\n",
    "df_plot"
   ]
  },
  {
   "cell_type": "code",
   "execution_count": 16,
   "metadata": {
    "collapsed": true
   },
   "outputs": [],
   "source": [
    "df_plot[\"name\"] = df_plot.index"
   ]
  },
  {
   "cell_type": "code",
   "execution_count": 17,
   "metadata": {
    "collapsed": true
   },
   "outputs": [],
   "source": [
    "%load_ext rpy2.ipython"
   ]
  },
  {
   "cell_type": "code",
   "execution_count": 18,
   "metadata": {
    "collapsed": false
   },
   "outputs": [
    {
     "data": {
      "image/png": "[encoded data removed]"
     },
     "metadata": {},
     "output_type": "display_data"
    }
   ],
   "source": [
    "%%R -i df_plot\n",
    "library(ggplot2)\n",
    "\n",
    "ggplot(df_plot, aes(gender, diminutive, label=name)) +\n",
    "  geom_text()"
   ]
  },
  {
   "cell_type": "code",
   "execution_count": 14,
   "metadata": {
    "collapsed": false
   },
   "outputs": [],
   "source": [
    "lens = (df**2).sum(axis=1)\n",
    "dfn = df.div(np.sqrt(lens), axis='index')"
   ]
  },
  {
   "cell_type": "code",
   "execution_count": 22,
   "metadata": {
    "collapsed": false
   },
   "outputs": [
    {
     "data": {
      "text/plain": [
       "0\n",
       "jason       1.000000\n",
       "derek       0.849572\n",
       "matt        0.816070\n",
       "sean        0.809574\n",
       "josh        0.803905\n",
       "ryan        0.797081\n",
       "anderson    0.777433\n",
       "shawn       0.774331\n",
       "curtis      0.774186\n",
       "crosby      0.769591\n",
       "kidd        0.764204\n",
       "brandon     0.758109\n",
       "brad        0.757077\n",
       "damon       0.750403\n",
       "freeman     0.750331\n",
       "kelly       0.747070\n",
       "jay         0.746571\n",
       "kevin       0.743553\n",
       "aaron       0.742430\n",
       "tim         0.742152\n",
       "dtype: float64"
      ]
     },
     "execution_count": 22,
     "metadata": {},
     "output_type": "execute_result"
    }
   ],
   "source": [
    "dfn.dot(dfn.loc[\"jason\"]).sort_values(ascending=False).head(20)"
   ]
  },
  {
   "cell_type": "code",
   "execution_count": null,
   "metadata": {
    "collapsed": true
   },
   "outputs": [],
   "source": []
  }
 ],
 "metadata": {
  "anaconda-cloud": {},
  "kernelspec": {
   "display_name": "IPython (Python 3)",
   "language": "python",
   "name": "python3"
  },
  "language_info": {
   "codemirror_mode": {
    "name": "ipython",
    "version": 3
   },
   "file_extension": ".py",
   "mimetype": "text/x-python",
   "name": "python",
   "nbconvert_exporter": "python",
   "pygments_lexer": "ipython3",
   "version": "3.4.3"
  }
 },
 "nbformat": 4,
 "nbformat_minor": 0
}
