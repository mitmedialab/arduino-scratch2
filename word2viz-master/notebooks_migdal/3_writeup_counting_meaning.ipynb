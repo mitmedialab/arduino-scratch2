{
 "cells": [
  {
   "cell_type": "markdown",
   "metadata": {},
   "source": [
    "# Counting, meaning and vectors\n",
    "\n",
    "Sometimes a seemingly naive technique give powerful results. Perhaps you've heard about changing words into vectors, so that `king - man + woman = queen`. I will try to explain why it works!\n",
    "\n",
    "Consider this sentence:\n",
    "```\n",
    "a small, fluffly roosety climbed a tree\n",
    "```\n",
    "What's a `roosety`? Maybe something like a `squirrel`, since two words can be easily interchanged. What's funny, we don't even need to know grammar to be able to tell if one word can be replaced by another - all we need is to know probabilities that certain word co-occur within short distance.\n",
    "\n",
    "Mathematically we can write it down:\n",
    "\n",
    "$$P(w|roosety) = P(w|squirrel)$$."
   ]
  },
  {
   "cell_type": "markdown",
   "metadata": {},
   "source": [
    "## Counting\n",
    "\n",
    "So, it is enough to calculate counts of each pairs $P(w_1, w_2)$ within a fixed distance. Then in particular\n",
    "\n",
    "$$P(w_1|w_2) = \\frac{P(w_1,w_2)}{\\sum_{all\\ w} P(w, w_2) }$$\n",
    "\n",
    "But - storing data for all possible combinations may be to much. So we need...\n",
    "\n",
    "## Compression\n",
    "\n",
    "> (Cultures of Machine Learning) The Compressors: View cognition as compression.\n",
    "\n",
    "from https://news.ycombinator.com/item?id=10954508\n",
    "\n"
   ]
  },
  {
   "cell_type": "markdown",
   "metadata": {},
   "source": [
    "One of quantities \n",
    "\n",
    "$$PMI(a,b) = w_a \\cdot w_b$$\n",
    "\n"
   ]
  },
  {
   "cell_type": "markdown",
   "metadata": {},
   "source": [
    "$$\\log \\frac{P(w|a)}{P(w|b)} = \\log \\frac{P(w,a)/P(a)}{P(w,b)/P(b)} = PMI(w,a) - PMI(w,b) $$"
   ]
  },
  {
   "cell_type": "markdown",
   "metadata": {},
   "source": [
    "\n",
    "\n",
    "$$P(word|queen) = \\frac{P(word, queen)}{P(queen)} $$"
   ]
  },
  {
   "cell_type": "markdown",
   "metadata": {},
   "source": [
    "* https://web.stanford.edu/~jurafsky/slp3/19.pdf"
   ]
  },
  {
   "cell_type": "markdown",
   "metadata": {},
   "source": [
    "$$\\Female$$"
   ]
  },
  {
   "cell_type": "markdown",
   "metadata": {},
   "source": [
    "## Things that do not make sense\n",
    "\n",
    "* sum of things\n",
    "* subtraction as obj"
   ]
  },
  {
   "cell_type": "markdown",
   "metadata": {},
   "source": [
    "## Technical details\n",
    "\n",
    "$$\\log P(word_1, word_2)$$\n",
    "\n",
    "while Skip-gram "
   ]
  }
 ],
 "metadata": {
  "kernelspec": {
   "display_name": "IPython (Python 3)",
   "language": "python",
   "name": "python3"
  },
  "language_info": {
   "codemirror_mode": {
    "name": "ipython",
    "version": 3
   },
   "file_extension": ".py",
   "mimetype": "text/x-python",
   "name": "python",
   "nbconvert_exporter": "python",
   "pygments_lexer": "ipython3",
   "version": "3.4.3"
  }
 },
 "nbformat": 4,
 "nbformat_minor": 0
}
